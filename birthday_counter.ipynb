{
 "cells": [
  {
   "cell_type": "code",
   "execution_count": 4,
   "metadata": {},
   "outputs": [
    {
     "name": "stdout",
     "output_type": "stream",
     "text": [
      "Enter your name please: Tom\n",
      "Enter you birthday month: 04\n",
      "Enter you birthday day: 2\n",
      "122\n",
      "Hi, Tom. You birthday is on day 122 of the year!\n"
     ]
    }
   ],
   "source": [
    "# Get name and birthday from user\n",
    "name = str(input(\"Enter your name please: \"))\n",
    "birthdayMonth = int(input(\"Enter you birthday month: \"))\n",
    "birthdayDay = int(input(\"Enter you birthday day: \"))\n",
    "\n",
    "# print the approximate day of the year of their birthday\n",
    "num_days = (birthdayMonth*30) + (birthdayDay)\n",
    "print(num_days)\n",
    "print(\"Hi, \" + name + \". You birthday is on day \" + str(num_days) + \" of the year!\")"
   ]
  }
 ],
 "metadata": {
  "kernelspec": {
   "display_name": "Python 3",
   "language": "python",
   "name": "python3"
  },
  "language_info": {
   "codemirror_mode": {
    "name": "ipython",
    "version": 3
   },
   "file_extension": ".py",
   "mimetype": "text/x-python",
   "name": "python",
   "nbconvert_exporter": "python",
   "pygments_lexer": "ipython3",
   "version": "3.6.13"
  }
 },
 "nbformat": 4,
 "nbformat_minor": 4
}
