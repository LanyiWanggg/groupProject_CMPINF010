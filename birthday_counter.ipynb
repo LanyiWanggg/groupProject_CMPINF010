{
 "cells": [
  {
   "cell_type": "code",
   "execution_count": 6,
   "metadata": {},
   "outputs": [
    {
     "name": "stdin",
     "output_type": "stream",
     "text": [
      "Enter your name please:  ttt\n",
      "Enter you birthday month:  5\n",
      "Enter you birthday day:  4\n"
     ]
    },
    {
     "name": "stdout",
     "output_type": "stream",
     "text": [
      "154\n",
      "Hi, ttt. You birthday is 211 away!\n"
     ]
    }
   ],
   "source": [
    "name = input(\"Enter your name please: \")\n",
    "birthdayMonth = input(\"Enter you birthday month: \")\n",
    "birthdayDay = input(\"Enter you birthday day: \")\n",
    "\n",
    "num_days = int(birthdayMonth)*30 + int(birthdayDay)\n",
    "print(num_days)\n",
    "print(\"Hi, \" + name + \". You birthday is \" + str(365-num_days) + \" away!\")"
   ]
  },
  {
   "cell_type": "code",
   "execution_count": null,
   "metadata": {},
   "outputs": [],
   "source": []
  }
 ],
 "metadata": {
  "kernelspec": {
   "display_name": "Python 3",
   "language": "python",
   "name": "python3"
  },
  "language_info": {
   "codemirror_mode": {
    "name": "ipython",
    "version": 3
   },
   "file_extension": ".py",
   "mimetype": "text/x-python",
   "name": "python",
   "nbconvert_exporter": "python",
   "pygments_lexer": "ipython3",
   "version": "3.8.3"
  }
 },
 "nbformat": 4,
 "nbformat_minor": 4
}
