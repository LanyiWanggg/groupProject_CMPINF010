{
 "cells": [
  {
   "cell_type": "code",
   "execution_count": 59,
   "metadata": {
    "scrolled": true
   },
   "outputs": [
    {
     "name": "stdout",
     "output_type": "stream",
     "text": [
      "Enter your name please: Tom\n",
      "Enter you birthday month: 10\n",
      "Enter you birthday day: 27\n",
      "9\n",
      "Hi, Tom. You birthday is 9 days away!\n"
     ]
    }
   ],
   "source": [
    "from datetime import date\n",
    "\n",
    "# get the name, birth month, and birth day from the user\n",
    "name = str(input(\"Enter your name please: \"))\n",
    "birthdayMonth = int(input(\"Enter you birthday month: \"))\n",
    "birthdayDay = int(input(\"Enter you birthday day: \"))\n",
    "\n",
    "# check if their birthday has already passed\n",
    "# if it has give days til next year's birthday\n",
    "if ((date.today() - date(date.today().year,birthdayMonth,birthdayDay)).days > 0):\n",
    "    nextBirthday = date(date.today().year+1,birthdayMonth,birthdayDay)\n",
    "else:\n",
    "    nextBirthday = date(date.today().year,birthdayMonth,birthdayDay)\n",
    "\n",
    "# print the number of days remaining til the next birthday\n",
    "num_days = (nextBirthday - date.today()).days\n",
    "print(num_days)\n",
    "\n",
    "# if it is their birthday, wish them Happy Birthday\n",
    "# else tell them how many days left\n",
    "if (num_days == 0):\n",
    "    print(\"Hi, \" + name + \". Today is your birthday! Happy Birthday!\")\n",
    "else:\n",
    "    print(\"Hi, \" + name + \". You birthday is \" + str(num_days) + \" days away!\")"
   ]
  }
 ],
 "metadata": {
  "kernelspec": {
   "display_name": "Python 3",
   "language": "python",
   "name": "python3"
  },
  "language_info": {
   "codemirror_mode": {
    "name": "ipython",
    "version": 3
   },
   "file_extension": ".py",
   "mimetype": "text/x-python",
   "name": "python",
   "nbconvert_exporter": "python",
   "pygments_lexer": "ipython3",
   "version": "3.6.13"
  }
 },
 "nbformat": 4,
 "nbformat_minor": 4
}
